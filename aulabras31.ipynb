{
 "cells": [
  {
   "cell_type": "markdown",
   "metadata": {
    "heading_collapsed": true,
    "slideshow": {
     "slide_type": "slide"
    }
   },
   "source": [
    "## <center>Economia Brasileira I - FEA-USP</center>\n",
    "\n",
    "## <center>Aula 3 - Retomada do Crescimento e “Milagre Econômico” (1968-1973) (parte 1)</center>\n",
    "\n",
    "### <center>Renato Perim Colistete</center>\n",
    "\n",
    "\n",
    "#### <center>2020</center>  "
   ]
  },
  {
   "cell_type": "markdown",
   "metadata": {
    "slideshow": {
     "slide_type": "slide"
    }
   },
   "source": [
    "## Objetivos\n",
    "\n",
    "Esta aula concentra-se no curto mas importante governo Costa e Silva (15/3/1967 a 31/8/1969).\n",
    "\n",
    "Vamos apresentar as principais medidas de política econômica adotadas no período, enfatizando a descontinuidade em relação ao governo Castello Branco.\n",
    "\n",
    "Nas aulas seguintes avaliaremos o período do “milagre”, o endividamento externo e os resultados macroeconômicos."
   ]
  },
  {
   "cell_type": "markdown",
   "metadata": {
    "slideshow": {
     "slide_type": "slide"
    }
   },
   "source": [
    "## Nova orientação\n",
    "\n",
    "O novo governo [Costa e Silva](https://www.fgv.br/cpdoc/acervo/dicionarios/verbete-biografico/artur-da-costa-e-silva) (mar/1967 a ago/1969) trouxe mudanças significativas na condução da política econômica."
   ]
  },
  {
   "cell_type": "markdown",
   "metadata": {
    "slideshow": {
     "slide_type": "fragment"
    }
   },
   "source": [
    "[Delfim Neto](https://www.fgv.br/cpdoc/acervo/dicionarios/verbete-biografico/antonio-delfim-neto), novo ministro da Fazenda, avaliou de forma crítica o rigor e a orientação do ajuste promovido durante o governo Castelo Branco."
   ]
  },
  {
   "cell_type": "markdown",
   "metadata": {
    "slideshow": {
     "slide_type": "fragment"
    }
   },
   "source": [
    "Macarini (2005) fala de um “período inequivocamente marcado pela heterodoxia na condução da política econômica”, ainda que com um intervalo de relativo retorno à estabilização entre dez/1968 e ago/1969."
   ]
  },
  {
   "cell_type": "markdown",
   "metadata": {
    "slideshow": {
     "slide_type": "slide"
    }
   },
   "source": [
    "## Novo diagnóstico\n",
    "\n",
    "Para Delfim Neto, a política macroeconômica do governo Castelo Branco falhou em combater a inflação (que permaneceu alta), tendo além disso causado acentuado declínio da produção e do emprego."
   ]
  },
  {
   "cell_type": "markdown",
   "metadata": {
    "slideshow": {
     "slide_type": "fragment"
    }
   },
   "source": [
    "O diagnóstico da nova equipe era que a política do governo Castelo havia se concentrado excessivamente no controle da demanda (inflação de demanda), provocando queda na atividade econômica que levou a pressões de custo, inviabilizando o controle efetivo da inflação. Para Delfim, inflação de demanda e inflação de custo se alternavam."
   ]
  },
  {
   "cell_type": "markdown",
   "metadata": {
    "slideshow": {
     "slide_type": "fragment"
    }
   },
   "source": [
    "Segundo essa interpretação, o maior problema do diagnóstico do PAEG seria que a política resultante impedia a retomada dos investimentos e do desenvolvimento."
   ]
  },
  {
   "cell_type": "markdown",
   "metadata": {
    "slideshow": {
     "slide_type": "slide"
    }
   },
   "source": [
    "## PED\n",
    "\n",
    "Uma síntese da nova orientação do governo Costa e Silva é o [Programa Estratégico de Desenvolvimento (PED)](https://www.fgv.br/cpdoc/acervo/dicionarios/verbete-tematico/programa-estrategico-de-desenvolvimento-ped), lançado oficialmente no final de 1967 mas já anunciado em linhas gerais em julho de 1967 (doc original no site)."
   ]
  },
  {
   "cell_type": "markdown",
   "metadata": {
    "slideshow": {
     "slide_type": "fragment"
    }
   },
   "source": [
    "O PED diagnosticou um “arrefecimento da substituição de importações” como fator que afetou o crescimento econômico."
   ]
  },
  {
   "cell_type": "markdown",
   "metadata": {
    "slideshow": {
     "slide_type": "fragment"
    }
   },
   "source": [
    "Em lugar da ênfase exclusiva em alguns setores industriais (bens de capital e bens duráveis principalmente), seria necessário – segundo o PED – ampliar a base do crescimento: além da indústria, a agricultura, a infraestrutura econômica e social (habitação, educação, saneamento)."
   ]
  },
  {
   "cell_type": "markdown",
   "metadata": {
    "slideshow": {
     "slide_type": "subslide"
    }
   },
   "source": [
    "Essa estratégia se daria por meio da *ampliação do mercado interno e pela promoção das exportações*, segundo o documento."
   ]
  },
  {
   "cell_type": "markdown",
   "metadata": {
    "slideshow": {
     "slide_type": "slide"
    }
   },
   "source": [
    "## Metas\n",
    "\n",
    "Contrariamente aos Planos anteriores, o PED *não* estabeleceu metas de inflação. Aparentemente o objetivo foi dar flexibilidade à política econômica, não a comprometendo com metas estritas. O objetivo declarado foi apenas o de redução gradual dos preços."
   ]
  },
  {
   "cell_type": "markdown",
   "metadata": {
    "slideshow": {
     "slide_type": "fragment"
    }
   },
   "source": [
    "Por outro lado, o Programa definiu uma meta de crescimento de, no mínimo, 6% anuais."
   ]
  },
  {
   "cell_type": "markdown",
   "metadata": {
    "slideshow": {
     "slide_type": "fragment"
    }
   },
   "source": [
    "Refletindo essa nova abordagem, as políticas monetária, creditícia e fiscal foram flexibilizadas já a partir de 1967, como veremos a seguir."
   ]
  },
  {
   "cell_type": "markdown",
   "metadata": {
    "slideshow": {
     "slide_type": "slide"
    }
   },
   "source": [
    "## Política monetária e preços\n",
    "\n",
    "*Política monetária*: crescimento real dos meios de pagamento (M1 deflacionado pelo IGP-DI) foi de 14% em 1967 e 12% em 1968."
   ]
  },
  {
   "cell_type": "markdown",
   "metadata": {
    "slideshow": {
     "slide_type": "fragment"
    }
   },
   "source": [
    "*Controle direto da inflação*: decreto de dez/1967 ([Decreto 61.993](https://www2.camara.leg.br/legin/fed/decret/1960-1969/decreto-61993-28-dezembro-1967-403206-publicacaooriginal-1-pe.html)) subordinou todos os reajustes de preços à Comissão Nacional de Estímulos à Estabilização de Preços ([CONEP, criado em 1965](http://legis.senado.leg.br/norma/479868/publicacao/15700530)) – até então o esquema de controle era feito por meio de incentivos fiscais (ver Dec. [57.618, 10/1/1966](http://legis.senado.leg.br/norma/480216/publicacao/15787151))."
   ]
  },
  {
   "cell_type": "markdown",
   "metadata": {
    "slideshow": {
     "slide_type": "fragment"
    }
   },
   "source": [
    "Em agosto de 1968, o Conselho Interministerial de Preços (CIP) substituiu a CONEP, com o objetivo de “fixar e fazer executar as medidas destinadas à implementação da sistemática reguladora de preços” ([Dec. 63.196, 29/8/1968](http://legis.senado.leg.br/norma/485823/publicacao/15804058))."
   ]
  },
  {
   "cell_type": "markdown",
   "metadata": {
    "slideshow": {
     "slide_type": "slide"
    }
   },
   "source": [
    "## Juros\n",
    "\n",
    "*Controle de juros*: o governo Costa e Silva passou a controlar diretamente os juros, com taxas pré-fixadas máximas de captação e aplicação."
   ]
  },
  {
   "cell_type": "markdown",
   "metadata": {
    "slideshow": {
     "slide_type": "fragment"
    }
   },
   "source": [
    "Outro mecanismo foi a aplicação de redutores (coeficientes de redução) dos juros com base em médias dos meses passados."
   ]
  },
  {
   "cell_type": "markdown",
   "metadata": {
    "slideshow": {
     "slide_type": "fragment"
    }
   },
   "source": [
    "A nova equipe também incentivou a *concentração de instituições bancárias*, como objetivo de gerar economias de escala, reduzir custos operacionais e elevar a produtividade do sistema financeiro."
   ]
  },
  {
   "cell_type": "markdown",
   "metadata": {
    "slideshow": {
     "slide_type": "slide"
    }
   },
   "source": [
    "## Política fiscal\n",
    "\n",
    "A equipe do governo Costa e Silva beneficiou-se das reformas fiscal e administrativa implementadas nos anos anteriores – inclusive no financiamento da dívida pública via emissão de LTNs e ORTNs."
   ]
  },
  {
   "cell_type": "markdown",
   "metadata": {
    "slideshow": {
     "slide_type": "fragment"
    }
   },
   "source": [
    "Manteve-se a orientação seguida até então, ou seja, diminuição de gastos de custeio, aumento da arrecadação com impostos e taxas, com redução do déficit público mas elevação das despesas e receitas fiscais no PIB."
   ]
  },
  {
   "cell_type": "markdown",
   "metadata": {
    "slideshow": {
     "slide_type": "fragment"
    }
   },
   "source": [
    "*Política fiscal*: relativo alívio em 1967, com déficit público aumentando para 1,7% do PIB (contra 1,1% em 1966); mas novo aperto em 1968 (1,2% do PIB) (veremos melhor na próxima aula)."
   ]
  },
  {
   "cell_type": "markdown",
   "metadata": {
    "slideshow": {
     "slide_type": "slide"
    }
   },
   "source": [
    "## Política cambial\n",
    "\n",
    "Ampliação dos incentivos às exportações a partir de 1967, em especial às exportações de manufaturados. Algumas medidas:"
   ]
  },
  {
   "cell_type": "markdown",
   "metadata": {
    "slideshow": {
     "slide_type": "fragment"
    }
   },
   "source": [
    "- isenção fiscal e créditos nos pagamentos de Imposto de Renda, ICM e IPI;"
   ]
  },
  {
   "cell_type": "markdown",
   "metadata": {
    "slideshow": {
     "slide_type": "fragment"
    }
   },
   "source": [
    "- duas desvalorizações em janeiro e agosto de 1968; a partir daí política de “minidesvalorizações cambiais” (*crawling peg*) – com intervalos de 1 a 2 meses. "
   ]
  },
  {
   "cell_type": "markdown",
   "metadata": {
    "slideshow": {
     "slide_type": "slide"
    }
   },
   "source": [
    "## Política salarial\n",
    "\n",
    "O governo Costa e Silva manteve a mesma orientação repressiva e intervencionista com relação aos sindicatos e ao mercado de trabalho."
   ]
  },
  {
   "cell_type": "markdown",
   "metadata": {
    "slideshow": {
     "slide_type": "fragment"
    }
   },
   "source": [
    "Só houve uma alteração na regra salarial oficial, ocorrida em junho de 1968 ([Lei no 5.451](https://www2.camara.leg.br/legin/fed/lei/1960-1969/lei-5451-12-junho-1968-359228-publicacaooriginal-1-pl.html), 12/6/1968). A nova lei estabeleceu (art. 2o) correção pela inflação passada (anual) caso o resíduo inflacionário (previsão de inflação) fosse menor do que a inflação efetiva (o que de fato vinha ocorrendo)."
   ]
  },
  {
   "cell_type": "markdown",
   "metadata": {
    "slideshow": {
     "slide_type": "fragment"
    }
   },
   "source": [
    "Aparentemente, essa política refletiu o reconhecimento do arrocho salarial imposto anteriormente e, ao mesmo tempo, o desejo de estimular o consumo e a produção. Motivação política?"
   ]
  },
  {
   "cell_type": "markdown",
   "metadata": {
    "slideshow": {
     "slide_type": "slide"
    }
   },
   "source": [
    "## Mudança de rumo\n",
    "\n",
    "Macarini (2005) sustenta que, de final de 1968 até agosto de 1969, o governo mudou para uma política deflacionária\n",
    "clássica (via controle estrito da oferta monetária)."
   ]
  },
  {
   "cell_type": "markdown",
   "metadata": {
    "slideshow": {
     "slide_type": "fragment"
    }
   },
   "source": [
    "Razões apontadas: a) AI-5 (13/12/1968) deu mais margem de manobra na gestão econômica; b) insegurança frente aos resultados da inflação."
   ]
  },
  {
   "cell_type": "markdown",
   "metadata": {
    "slideshow": {
     "slide_type": "fragment"
    }
   },
   "source": [
    "A ideia era que, dada a retomada já observada da produção, seria possível atacar novamente a inflação sem colocar em risco o desenvolvimento."
   ]
  },
  {
   "cell_type": "markdown",
   "metadata": {
    "slideshow": {
     "slide_type": "slide"
    }
   },
   "source": [
    "## Questões\n",
    "\n",
    "Compare as políticas econômicas adotadas sob o governo Castello Branco e Costa e Silva: quais são as diferenças\n",
    "principais?\n",
    "\n",
    "É possível dizer que as mudanças implementadas a partir de 1967 foram as principais responsáveis pela recuperação\n",
    "econômica? Ou a recuperação viria de qualquer forma?\n",
    "\n",
    "A (quase) continuidade da política salarial durante o governo Costa e Silva foi necessária para o sucesso da\n",
    "recuperação – ou foi determinada na esfera política somente?"
   ]
  }
 ],
 "metadata": {
  "celltoolbar": "Slideshow",
  "kernelspec": {
   "display_name": "Python 3",
   "language": "python",
   "name": "python3"
  },
  "language_info": {
   "codemirror_mode": {
    "name": "ipython",
    "version": 3
   },
   "file_extension": ".py",
   "mimetype": "text/x-python",
   "name": "python",
   "nbconvert_exporter": "python",
   "pygments_lexer": "ipython3",
   "version": "3.6.10"
  },
  "toc": {
   "base_numbering": 1,
   "nav_menu": {},
   "number_sections": false,
   "sideBar": true,
   "skip_h1_title": false,
   "title_cell": "Table of Contents",
   "title_sidebar": "Contents",
   "toc_cell": false,
   "toc_position": {},
   "toc_section_display": true,
   "toc_window_display": false
  }
 },
 "nbformat": 4,
 "nbformat_minor": 2
}
